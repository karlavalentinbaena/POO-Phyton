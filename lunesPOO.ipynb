{
  "nbformat": 4,
  "nbformat_minor": 0,
  "metadata": {
    "colab": {
      "provenance": [],
      "authorship_tag": "ABX9TyO6CB00CPr0bE13djsVknCu",
      "include_colab_link": true
    },
    "kernelspec": {
      "name": "python3",
      "display_name": "Python 3"
    },
    "language_info": {
      "name": "python"
    }
  },
  "cells": [
    {
      "cell_type": "markdown",
      "metadata": {
        "id": "view-in-github",
        "colab_type": "text"
      },
      "source": [
        "<a href=\"https://colab.research.google.com/github/karlavalentinbaena/POO-Phyton/blob/main/lunesPOO.ipynb\" target=\"_parent\"><img src=\"https://colab.research.google.com/assets/colab-badge.svg\" alt=\"Open In Colab\"/></a>"
      ]
    },
    {
      "cell_type": "code",
      "execution_count": null,
      "metadata": {
        "colab": {
          "base_uri": "https://localhost:8080/"
        },
        "id": "BfW5cXzryYQ8",
        "outputId": "1a684894-5620-4bc8-bc28-b8b65308afa6"
      },
      "outputs": [
        {
          "output_type": "stream",
          "name": "stdout",
          "text": [
            "Hola Mundo\n"
          ]
        }
      ],
      "source": [
        "# Esto es un comentario\n",
        "print(\"Hola Mundo\")  # Esto imprime \"Hola Mundo\""
      ]
    },
    {
      "cell_type": "code",
      "source": [
        "!ls -a"
      ],
      "metadata": {
        "colab": {
          "base_uri": "https://localhost:8080/"
        },
        "id": "eYgnB1tk6Zi7",
        "outputId": "1ec44e2e-7241-4b7d-bec0-e26df477138a"
      },
      "execution_count": null,
      "outputs": [
        {
          "output_type": "stream",
          "name": "stdout",
          "text": [
            ".  ..  .config\tsample_data\n"
          ]
        }
      ]
    },
    {
      "cell_type": "code",
      "source": [
        "print(\"Hola\", \"Mundo\")\n",
        "\n",
        "print(\"Hola\" + \"Mundo\")\n",
        "\n",
        "print(\"Hola\", \"Mundo\", sep=\"-\")  # Imprime: Hola-Mundo\n",
        "\n",
        "print(\"Hola\", end=\"\")\n",
        "print(\"Mundo\")  # Imprime: HolaMundo"
      ],
      "metadata": {
        "colab": {
          "base_uri": "https://localhost:8080/"
        },
        "id": "P8UyuIui7C17",
        "outputId": "aa3749ef-365e-4330-ab3a-8cb04d21b84c"
      },
      "execution_count": null,
      "outputs": [
        {
          "output_type": "stream",
          "name": "stdout",
          "text": [
            "Hola Mundo\n",
            "HolaMundo\n",
            "Hola-Mundo\n",
            "HolaMundo\n"
          ]
        }
      ]
    },
    {
      "cell_type": "code",
      "source": [
        "nombre = \"José\"\n",
        "carrera = \"ICO, la mejor\"\n",
        "print(\"Mi nombre es {} y estudio {} en la FES Aragón\".format(nombre, carrera))\n",
        "print(f\"Mi nombre es {nombre} y estudio en {carrera} dentro de la FES\") #Formato f\n",
        "print(f\"Mi nombre es {nombre*2} y estudio en {carrera} dentro de la FES\")"
      ],
      "metadata": {
        "colab": {
          "base_uri": "https://localhost:8080/"
        },
        "id": "rePvSLR57o8p",
        "outputId": "416d6ba5-a07b-4c2e-d5ee-e68d92cf93ee"
      },
      "execution_count": null,
      "outputs": [
        {
          "output_type": "stream",
          "name": "stdout",
          "text": [
            "Mi nombre es José y estudio ICO, la mejor en la FES Aragón\n",
            "Mi nombre es José y estudio en ICO, la mejor dentro de la FES\n",
            "Mi nombre es JoséJosé y estudio en ICO, la mejor dentro de la FES\n"
          ]
        }
      ]
    },
    {
      "cell_type": "code",
      "source": [
        "# Operadores aritméticos\n",
        "suma = 5 + 3    # 8\n",
        "resta = 5 - 3   # 2\n",
        "producto = 5 * 3  # 15\n",
        "division = 5 / 3  # 1.66667\n",
        "division2 = 5 // 3 # 1\n",
        "modulo = 5 % 3   # 2\n",
        "potencia = 5 ** 3  # 125"
      ],
      "metadata": {
        "id": "LrPf1qU1_I2A"
      },
      "execution_count": null,
      "outputs": []
    },
    {
      "cell_type": "code",
      "source": [
        "producto"
      ],
      "metadata": {
        "colab": {
          "base_uri": "https://localhost:8080/"
        },
        "id": "j3H-7vBG_tqH",
        "outputId": "2a3a2ff3-6568-469e-eff4-bdb6a6c8fbfe"
      },
      "execution_count": null,
      "outputs": [
        {
          "output_type": "execute_result",
          "data": {
            "text/plain": [
              "15"
            ]
          },
          "metadata": {},
          "execution_count": 10
        }
      ]
    },
    {
      "cell_type": "code",
      "source": [
        "# Operadores de comparación\n",
        "igual = 5 == 3  # False\n",
        "diferente = 5 != 3  # True\n",
        "mayor_que = 5 > 3  # True\n",
        "menor_que = 5 < 3  # False\n",
        "mayor_o_igual_que = 5 >= 3  # True\n",
        "menor_o_igual_que = 5 <= 3  # False"
      ],
      "metadata": {
        "id": "lXlfZN1V_puB"
      },
      "execution_count": null,
      "outputs": []
    },
    {
      "cell_type": "code",
      "source": [
        "igual"
      ],
      "metadata": {
        "colab": {
          "base_uri": "https://localhost:8080/"
        },
        "id": "Swy-Y6prAID5",
        "outputId": "691d608e-c84b-4085-a68c-89e66aaaa233"
      },
      "execution_count": null,
      "outputs": [
        {
          "output_type": "execute_result",
          "data": {
            "text/plain": [
              "False"
            ]
          },
          "metadata": {},
          "execution_count": 15
        }
      ]
    },
    {
      "cell_type": "code",
      "source": [
        "# Operadores lógicos\n",
        "y = True and False  # False\n",
        "o = True or False  # True\n",
        "no = not True  # False"
      ],
      "metadata": {
        "id": "lj5orOquAKR4"
      },
      "execution_count": null,
      "outputs": []
    },
    {
      "cell_type": "code",
      "source": [
        "no"
      ],
      "metadata": {
        "colab": {
          "base_uri": "https://localhost:8080/"
        },
        "id": "iBGABf1_ALXf",
        "outputId": "cdad231a-2883-46c4-f08f-f8fac496ff2d"
      },
      "execution_count": null,
      "outputs": [
        {
          "output_type": "execute_result",
          "data": {
            "text/plain": [
              "False"
            ]
          },
          "metadata": {},
          "execution_count": 17
        }
      ]
    },
    {
      "cell_type": "code",
      "source": [
        "saludo = \"Hola Mundo\"\n",
        "cita = 'Los alumnos de ICO dicen: \"Hola Mundo\"'\n",
        "parrafo = \"\"\"Esto es un párrafo\n",
        "que abarca varias\n",
        "líneas\"\"\""
      ],
      "metadata": {
        "id": "nyVaATMCA72f"
      },
      "execution_count": null,
      "outputs": []
    },
    {
      "cell_type": "code",
      "source": [
        "cita"
      ],
      "metadata": {
        "colab": {
          "base_uri": "https://localhost:8080/",
          "height": 35
        },
        "id": "2fprn-Q2A9Q3",
        "outputId": "2ba36250-062c-4aef-ca18-b0ce34a07050"
      },
      "execution_count": null,
      "outputs": [
        {
          "output_type": "execute_result",
          "data": {
            "text/plain": [
              "'Los alumnos de ICO dicen: \"Hola Mundo\"'"
            ],
            "application/vnd.google.colaboratory.intrinsic+json": {
              "type": "string"
            }
          },
          "metadata": {},
          "execution_count": 19
        }
      ]
    },
    {
      "cell_type": "code",
      "source": [
        "def fn_uno():\n",
        "    print(\"Hola\")\n",
        "\n",
        "a, b, c = 10, \"Hola\", [2.3, 3.4]\n",
        "print(a)\n",
        "print(b)\n",
        "print(c[1])"
      ],
      "metadata": {
        "colab": {
          "base_uri": "https://localhost:8080/"
        },
        "id": "q8xcAdvRB8Vu",
        "outputId": "2e9e6217-c68f-4cff-c44b-0c487ed509f6"
      },
      "execution_count": null,
      "outputs": [
        {
          "output_type": "stream",
          "name": "stdout",
          "text": [
            "10\n",
            "Hola\n",
            "3.4\n"
          ]
        }
      ]
    },
    {
      "cell_type": "code",
      "source": [
        "# entrada por teclado\n",
        "nombre = input(\"Por favor, introduce tu nombre: \")\n",
        "print(f\"Hola {nombre}!\")"
      ],
      "metadata": {
        "colab": {
          "base_uri": "https://localhost:8080/"
        },
        "id": "0HDvxG13DIcf",
        "outputId": "adbbc6f5-ebce-4c45-9393-dca22ca1d383"
      },
      "execution_count": null,
      "outputs": [
        {
          "output_type": "stream",
          "name": "stdout",
          "text": [
            "Por favor, introduce tu nombre: Karla\n",
            "Hola Karla!\n"
          ]
        }
      ]
    },
    {
      "cell_type": "code",
      "source": [
        "edad = int(input(\"Introduce tu edad:\"))\n",
        "print(f\"{nombre} tiene {edad} años\")"
      ],
      "metadata": {
        "colab": {
          "base_uri": "https://localhost:8080/"
        },
        "id": "BGd-3u7ZDt8d",
        "outputId": "fd730b6c-e53b-4273-c26d-08f6c12438bd"
      },
      "execution_count": null,
      "outputs": [
        {
          "output_type": "stream",
          "name": "stdout",
          "text": [
            "Introduce tu edad:20\n",
            "Karla tiene 20 años\n"
          ]
        }
      ]
    },
    {
      "cell_type": "code",
      "source": [
        "mensaje = \"Hola Mundo\"  # String\n",
        "edad = 20               # Integer\n",
        "pi = 3.14159            # Float\n",
        "es_mayor = True         # Boolean\n",
        "imaginario = 3 + 4j     # Imaginario"
      ],
      "metadata": {
        "id": "MmfdJUSIEYMp"
      },
      "execution_count": null,
      "outputs": []
    },
    {
      "cell_type": "code",
      "source": [
        "imaginario"
      ],
      "metadata": {
        "colab": {
          "base_uri": "https://localhost:8080/"
        },
        "id": "nx8p-R5xEZW4",
        "outputId": "a73e9b29-4e05-418b-8feb-f5102b7ff6de"
      },
      "execution_count": null,
      "outputs": [
        {
          "output_type": "execute_result",
          "data": {
            "text/plain": [
              "(3+4j)"
            ]
          },
          "metadata": {},
          "execution_count": 28
        }
      ]
    },
    {
      "cell_type": "code",
      "source": [
        "frutas = ['limon','aguacate','fresa'] #lista\n",
        "print(frutas[2])\n",
        "print(frutas[-3])"
      ],
      "metadata": {
        "colab": {
          "base_uri": "https://localhost:8080/"
        },
        "id": "WV5XatG5Eyut",
        "outputId": "e3246cc0-884c-4ed9-8238-a0673d23be83"
      },
      "execution_count": null,
      "outputs": [
        {
          "output_type": "stream",
          "name": "stdout",
          "text": [
            "fresa\n",
            "limon\n"
          ]
        }
      ]
    },
    {
      "cell_type": "code",
      "source": [
        "cosas =['limon', 10, 3.1416, True, [1,2,3], \"hola\"]\n",
        "print(cosas)"
      ],
      "metadata": {
        "colab": {
          "base_uri": "https://localhost:8080/"
        },
        "id": "ILNek1dhFobP",
        "outputId": "c0423aa8-e8d3-4dc8-a501-07aca5b56a21"
      },
      "execution_count": null,
      "outputs": [
        {
          "output_type": "stream",
          "name": "stdout",
          "text": [
            "['limon', 10, 3.1416, True, [1, 2, 3], 'hola']\n"
          ]
        }
      ]
    },
    {
      "cell_type": "markdown",
      "source": [
        "#Slicyng en Phyton\n",
        "[inicio : stop : step]\n",
        "Es la posibilidad de obtener rebanadas a partir de un tipo de datos lista o tupla, en general de un iterable. Un tipo de dato string es un iterable.\n",
        "\n",
        "Por defecto el inicio es igual a 0.\n",
        "El stop es igual al tamaño de la variable.\n",
        "step = 1"
      ],
      "metadata": {
        "id": "sZzoF1fuGD8A"
      }
    },
    {
      "cell_type": "code",
      "source": [
        "ejemplo = [1,2,3,4,5,6, 'a','b','c','d','e']\n",
        "print(ejemplo)"
      ],
      "metadata": {
        "colab": {
          "base_uri": "https://localhost:8080/"
        },
        "id": "6wkhqwOGGwRg",
        "outputId": "2f52a483-a7c8-4743-cce6-7293f7a24ead"
      },
      "execution_count": null,
      "outputs": [
        {
          "output_type": "stream",
          "name": "stdout",
          "text": [
            "[1, 2, 3, 4, 5, 6, 'a', 'b', 'c', 'd', 'e']\n"
          ]
        }
      ]
    },
    {
      "cell_type": "code",
      "source": [
        "rebanada = ejemplo[2:6:1]\n",
        "print(rebanada)"
      ],
      "metadata": {
        "colab": {
          "base_uri": "https://localhost:8080/"
        },
        "id": "NCMRsvLOHIIu",
        "outputId": "d16f8a5b-e939-4053-e8df-427585287cc7"
      },
      "execution_count": null,
      "outputs": [
        {
          "output_type": "stream",
          "name": "stdout",
          "text": [
            "[3, 4, 5, 6]\n"
          ]
        }
      ]
    },
    {
      "cell_type": "code",
      "source": [
        "rebanadad = ejemplo[6:9:1]\n",
        "print(rebanadad)"
      ],
      "metadata": {
        "colab": {
          "base_uri": "https://localhost:8080/"
        },
        "id": "SJrOZ3CwHtFE",
        "outputId": "1f3c0b2a-94f5-48b9-9248-03c65dcc4828"
      },
      "execution_count": null,
      "outputs": [
        {
          "output_type": "stream",
          "name": "stdout",
          "text": [
            "['a', 'b', 'c']\n"
          ]
        }
      ]
    },
    {
      "cell_type": "code",
      "source": [
        "#TUPLAS\n",
        "frutas_dos = ('Aguacate', 'limon', 'naranja')\n",
        "print(frutas)\n",
        "print(frutas_dos)\n",
        "\n",
        "frutas[1] = 'Piña' #Se cambia el elemento en posicion 1 en lista, en tupla no se puede\n",
        "print(frutas[1])\n",
        "print(frutas_dos[1])\n",
        "\n",
        "print(frutas_dos[1:2:1])"
      ],
      "metadata": {
        "colab": {
          "base_uri": "https://localhost:8080/"
        },
        "id": "cdRBOThRIp7r",
        "outputId": "01a85ead-9916-46a8-cd99-74df126fd95a"
      },
      "execution_count": null,
      "outputs": [
        {
          "output_type": "stream",
          "name": "stdout",
          "text": [
            "['limon', 'aguacate', 'fresa']\n",
            "('Aguacate', 'limon', 'naranja')\n",
            "Piña\n",
            "limon\n",
            "('limon',)\n"
          ]
        }
      ]
    },
    {
      "cell_type": "markdown",
      "source": [
        "#Diccionarios teoria\n",
        "\n",
        "1.Es un conjunto de pares llave valor\n",
        "2.Agrupados por ':'\n",
        "3.La llave es de tipo string\n",
        "4.el valor puede ser de cualquier tipo.\n",
        "5.el selector es de la forma ['llave']\n",
        "6.mutable\n",
        "se declaran entre los caracteres '{ 'y'}'\n",
        "los pares estan separados por comas."
      ],
      "metadata": {
        "id": "A_coApsOKGTT"
      }
    },
    {
      "cell_type": "code",
      "source": [
        "alumno = {'numero_cuenta' : 1232322 , 'carrera' : 'ICO' ,\n",
        "            'direccion' : {'calle' : 'rancho seco', 'numero' : 23}\n",
        "          }\n",
        "print(alumno)\n",
        "print(alumno ['carrera']) #selector\n",
        "print(alumno['direccion']['numero'])\n",
        "print(alumno['direccion']['calle'][3:6:1])"
      ],
      "metadata": {
        "colab": {
          "base_uri": "https://localhost:8080/"
        },
        "id": "9y0c-CD2Ko1V",
        "outputId": "2457556b-8936-4129-ae84-912dc12dc242"
      },
      "execution_count": null,
      "outputs": [
        {
          "output_type": "stream",
          "name": "stdout",
          "text": [
            "{'numero_cuenta': 1232322, 'carrera': 'ICO', 'direccion': {'calle': 'rancho seco', 'numero': 23}}\n",
            "ICO\n",
            "23\n",
            "cho\n"
          ]
        }
      ]
    }
  ]
}